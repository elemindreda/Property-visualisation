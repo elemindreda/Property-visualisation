{
 "cells": [
  {
   "cell_type": "code",
   "execution_count": 1,
   "metadata": {},
   "outputs": [],
   "source": [
    "import pandas as pd\n",
    "import numpy as np\n",
    "import time\n",
    "import os\n",
    "import tabula\n",
    "import requests\n",
    "from selenium import webdriver\n",
    "from selenium.webdriver.support.ui import Select\n",
    "from selenium.webdriver.common.keys import Keys\n",
    "from selenium.webdriver.common.action_chains import ActionChains\n",
    "import xlsxwriter"
   ]
  },
  {
   "cell_type": "code",
   "execution_count": 2,
   "metadata": {},
   "outputs": [],
   "source": [
    "def timesleep(secs):\n",
    "    if secs == 'rand200':\n",
    "        secs = np.random.randint(100,200)\n",
    "    elif secs == 'rand20':\n",
    "        secs = np.random.randint(5,20)\n",
    "    for t in range(0,secs):\n",
    "        time.sleep(1)\n",
    "        print(t+1, end=' -> ')\n",
    "    print('\\n')\n",
    "        \n",
    "def save_data(browser, suburb, property_data):\n",
    "    results = browser.find_elements_by_xpath('//*[@id]')\n",
    "    for ids in results:\n",
    "        if ids.get_attribute('id').startswith('r'):\n",
    "            address = browser.find_element_by_xpath('//*[@id=\"'+ids.get_attribute('id')+'\"]/tbody/tr/td[2]/table/tbody/tr[1]/td/span[2]').text\n",
    "            table_data = browser.find_element_by_xpath('//*[@id=\"'+ids.get_attribute('id')+'\"]/tbody/tr/td[2]/table/tbody/tr[2]/td/table').text\n",
    "            table_data = table_data.split('\\n')\n",
    "            property_data[address+suburb] = table_data\n",
    "#             print('\\n'+ids.get_attribute('id')+' ----> '+address+' ----> '+table_data[0])\n",
    "    return browser, property_data"
   ]
  },
  {
   "cell_type": "code",
   "execution_count": 3,
   "metadata": {},
   "outputs": [],
   "source": [
    "def skip_pages(next_button, page):\n",
    "    for row in next_button.find_elements_by_css_selector('td'):\n",
    "        if row.text == str(page):\n",
    "            next_page = row\n",
    "            \n",
    "    return next_page"
   ]
  },
  {
   "cell_type": "code",
   "execution_count": 4,
   "metadata": {},
   "outputs": [],
   "source": [
    "def check_skip_pages(browser, page):\n",
    "    \n",
    "    print('====== Skipping Pages =====')\n",
    "    timesleep('rand20')\n",
    "    Run = True\n",
    "    current_page = 1\n",
    "    while Run:\n",
    "        next_button = browser.find_element_by_xpath('/html/body/center/table/tbody')\n",
    "        if page > 10 and current_page == 1:\n",
    "            print('====== Skipping to Page 10 =====')\n",
    "            current_page = 10\n",
    "            row = skip_pages(next_button, 10)\n",
    "            row.click()\n",
    "            timesleep('rand20')\n",
    "            if 15 > page > 10:\n",
    "                Run = False\n",
    "        elif page > 15 and current_page == 10:\n",
    "            current_page = 15\n",
    "            row = skip_pages(next_button, 15)\n",
    "            row.click()\n",
    "            timesleep('rand20')\n",
    "            if 20 > page > 15:\n",
    "                Run = False\n",
    "            print('====== Skipping to Page 15 =====')\n",
    "        elif page > 20 and current_page == 15:\n",
    "            current_page = 20\n",
    "            row = skip_pages(next_button, 20)\n",
    "            row.click()\n",
    "            timesleep('rand20')\n",
    "            if 25 > page > 20:\n",
    "                Run = False\n",
    "            print('====== Skipping to Page 20')\n",
    "        elif page > 25 and current_page == 20:\n",
    "            row = skip_pages(next_button, 25)\n",
    "            row.click()\n",
    "            timesleep('rand20')\n",
    "            if 30 > page > 25:\n",
    "                Run = False\n",
    "            print('====== Skipping to Page 25')\n",
    "    return browser\n"
   ]
  },
  {
   "cell_type": "code",
   "execution_count": 5,
   "metadata": {},
   "outputs": [],
   "source": [
    "def GET_SOLD_DATA(browser, url, suburb, property_data, page):\n",
    "    #Start Searching sold properties\n",
    "    \n",
    "    \n",
    "    \n",
    "    return property_data, page\n",
    "    \n",
    "\n",
    "    "
   ]
  },
  {
   "cell_type": "code",
   "execution_count": 6,
   "metadata": {},
   "outputs": [],
   "source": [
    "def checkupdate(suburb):\n",
    "    print(suburb+' Up To Date')\n",
    "    return"
   ]
  },
  {
   "cell_type": "code",
   "execution_count": 7,
   "metadata": {},
   "outputs": [
    {
     "name": "stdout",
     "output_type": "stream",
     "text": [
      "loading webpage...\n",
      "1 -> 2 -> 3 -> 4 -> 5 -> \n",
      "\n",
      "installing extensions\n",
      "1 -> 2 -> \n",
      "\n"
     ]
    }
   ],
   "source": [
    "property_data = {}\n",
    "postcodes = pd.read_csv('postcode.csv', index_col = 0)\n",
    "url = 'https://www.domain.com.au'\n",
    "log = []\n",
    "\n",
    "browser = webdriver.Firefox()\n",
    "print('loading webpage...')\n",
    "browser.get(url)\n",
    "timesleep(5)\n",
    "\n",
    "extensions = [\n",
    "    'uBlock0@raymondhill.net.xpi',\n",
    "    ]\n",
    "\n",
    "extension_dir = 'C:\\\\Users\\\\waghu\\\\OneDrive\\\\Python_Projects\\\\__drivers__\\\\'\n",
    "\n",
    "for extension in extensions:\n",
    "    browser.install_addon(extension_dir + extension)\n",
    "\n",
    "print('installing extensions')\n",
    "timesleep(2)\n",
    "\n",
    "\n",
    "\n"
   ]
  },
  {
   "cell_type": "code",
   "execution_count": 8,
   "metadata": {},
   "outputs": [
    {
     "name": "stdout",
     "output_type": "stream",
     "text": [
      "1 -> \n",
      "\n"
     ]
    }
   ],
   "source": [
    "\n",
    "filters = browser.find_element_by_xpath(\n",
    "    '/html/body/div[2]/div[1]/div[3]/div/div/form/div[2]/div/div/div[1]/div/div/section/div/div/div/div/div[2]/button'\n",
    ")\n",
    "\n",
    "filters.click()\n",
    "\n",
    "timesleep(1)"
   ]
  },
  {
   "cell_type": "code",
   "execution_count": 9,
   "metadata": {},
   "outputs": [],
   "source": [
    "\n",
    "untick_nearby_suburbs = browser.find_element_by_xpath(\n",
    "'/html/body/div[2]/div[1]/div[3]/div/div/div/div[1]/div/div[4]/label/div[2]'\n",
    ")\n",
    "untick_nearby_suburbs.click()"
   ]
  },
  {
   "cell_type": "code",
   "execution_count": null,
   "metadata": {},
   "outputs": [],
   "source": [
    "sold_button = browser.find_element_by_xpath(\n",
    "'/html/body/div[2]/div[1]/div[3]/div/div/div/div[1]/div/div[2]/div/button[4]'\n",
    ")\n",
    "rent_button = browser.find_element_by_xpath(\n",
    "'/html/body/div[2]/div[1]/div[3]/div/div/div/div[1]/div/div[2]/div/button[2]'\n",
    ")\n",
    "buy_button = browser.find_element_by_xpath(\n",
    "'/html/body/div[2]/div[1]/div[3]/div/div/div/div[1]/div/div[2]/div/button[1]'\n",
    ")\n",
    "sold_button.click()\n",
    "\n",
    "timesleep(2)"
   ]
  },
  {
   "cell_type": "code",
   "execution_count": null,
   "metadata": {},
   "outputs": [],
   "source": [
    "\n",
    "for suburb in postcodes.values.tolist():\n",
    "    print(suburb)\n",
    "\n"
   ]
  },
  {
   "cell_type": "code",
   "execution_count": 13,
   "metadata": {},
   "outputs": [],
   "source": [
    "search_button = browser.find_element_by_xpath(\n",
    "'/html/body/div[2]/div[1]/div[3]/div/div/div/div[1]/div/div[3]/div[2]/button/span[2]/span'\n",
    ")\n",
    "search_button.click()"
   ]
  },
  {
   "cell_type": "code",
   "execution_count": 19,
   "metadata": {},
   "outputs": [],
   "source": [
    "sort_by = browser.find_element_by_xpath(\n",
    "'/html/body/div[1]/div/div/div[4]/div[2]/div[1]/div[2]/div/div[2]/div[2]/div/div/button'\n",
    ")\n",
    "sort_by.click()\n"
   ]
  },
  {
   "cell_type": "code",
   "execution_count": 20,
   "metadata": {},
   "outputs": [],
   "source": [
    "sort_by_newest = browser.find_element_by_xpath(\n",
    "'//*[@id=\"search-results-sort-by-filter-item-0\"]'\n",
    "    )\n",
    "sort_by_newest.click()"
   ]
  },
  {
   "cell_type": "code",
   "execution_count": 32,
   "metadata": {},
   "outputs": [],
   "source": [
    "secs = 'rand5-20'"
   ]
  },
  {
   "cell_type": "code",
   "execution_count": 33,
   "metadata": {},
   "outputs": [],
   "source": [
    "secs = [int(secs) for sec in secs.split() if sec.isdigit()]\n"
   ]
  },
  {
   "cell_type": "code",
   "execution_count": 34,
   "metadata": {},
   "outputs": [
    {
     "data": {
      "text/plain": [
       "[]"
      ]
     },
     "execution_count": 34,
     "metadata": {},
     "output_type": "execute_result"
    }
   ],
   "source": [
    "secs"
   ]
  },
  {
   "cell_type": "code",
   "execution_count": 21,
   "metadata": {},
   "outputs": [],
   "source": [
    "search_results = browser.find_elements_by_xpath('/html/body/div[1]/div/div/div[4]/div[2]/div[1]/div[2]/ul/li')\n"
   ]
  },
  {
   "cell_type": "code",
   "execution_count": 22,
   "metadata": {},
   "outputs": [],
   "source": [
    "def scroll_shim(passed_in_driver, object):\n",
    "    x = object.location['x']\n",
    "    y = object.location['y']\n",
    "    scroll_by_coord = 'window.scrollTo(%s,%s);' % (\n",
    "        x,\n",
    "        y\n",
    "    )\n",
    "    scroll_nav_out_of_way = 'window.scrollBy(0, -120);'\n",
    "    passed_in_driver.execute_script(scroll_by_coord)\n",
    "    passed_in_driver.execute_script(scroll_nav_out_of_way)"
   ]
  },
  {
   "cell_type": "code",
   "execution_count": null,
   "metadata": {},
   "outputs": [],
   "source": [
    "for result in search_results:\n",
    "    if result.text.strip():\n",
    "        timesleep(1)\n",
    "        print(result.text)\n",
    "        \n",
    "        scroll_shim(browser, result)\n",
    "        \n",
    "        action = ActionChains(browser)\n",
    "        action.key_down(Keys.CONTROL)\n",
    "        action.click(result)\n",
    "        action.key_up(Keys.CONTROL)\n",
    "        action.perform()"
   ]
  },
  {
   "cell_type": "code",
   "execution_count": 140,
   "metadata": {},
   "outputs": [],
   "source": [
    "data1 = browser.find_element_by_xpath('/html/body/div[1]/div/div[1]/div/div[6]/div/div/div[1]/div[1]/div')"
   ]
  },
  {
   "cell_type": "code",
   "execution_count": 142,
   "metadata": {},
   "outputs": [
    {
     "data": {
      "text/plain": [
       "'$480 Per Week\\n404/21a Alice St Seven Hills NSW 2147\\n2\\nBeds\\n2\\nBaths\\n1\\nParking\\nApartment / Unit / Flat'"
      ]
     },
     "execution_count": 142,
     "metadata": {},
     "output_type": "execute_result"
    }
   ],
   "source": [
    "data1.text"
   ]
  },
  {
   "cell_type": "code",
   "execution_count": 135,
   "metadata": {},
   "outputs": [
    {
     "data": {
      "text/plain": [
       "['18', '139']"
      ]
     },
     "execution_count": 135,
     "metadata": {},
     "output_type": "execute_result"
    }
   ],
   "source": [
    "browser.window_handles"
   ]
  },
  {
   "cell_type": "code",
   "execution_count": 139,
   "metadata": {},
   "outputs": [],
   "source": [
    "browser.switch_to.window(browser.window_handles[1])"
   ]
  },
  {
   "cell_type": "code",
   "execution_count": null,
   "metadata": {},
   "outputs": [],
   "source": []
  },
  {
   "cell_type": "code",
   "execution_count": null,
   "metadata": {},
   "outputs": [],
   "source": []
  },
  {
   "cell_type": "code",
   "execution_count": null,
   "metadata": {},
   "outputs": [],
   "source": []
  },
  {
   "cell_type": "code",
   "execution_count": null,
   "metadata": {},
   "outputs": [],
   "source": [
    "# def main():\n",
    "property_data = {}\n",
    "postcodes = pd.read_csv('postcode.csv', index_col = 0)\n",
    "url = 'http://house.ksou.cn/index.php'\n",
    "log = []\n",
    "for suburb, page in postcodes.values.tolist():\n",
    "    if page >= 31:\n",
    "        checkupdate(suburb) \n",
    "    else:\n",
    "        try:\n",
    "            browser = webdriver.Firefox()\n",
    "            print('loading webpage...')\n",
    "            browser.get(url)\n",
    "            timesleep(5)\n",
    "\n",
    "            inputElement = browser.find_element_by_id('q')\n",
    "            button = browser.find_element_by_xpath('/html/body/center/form/table/tbody/tr/td[2]/input')\n",
    "            inputElement.send_keys(suburb)\n",
    "            print('searching for the '+suburb+'...')\n",
    "            button.click()\n",
    "            timesleep(5)\n",
    "            main_window = browser.current_window_handle\n",
    "\n",
    "            property_data, log = GET_SOLD_DATA(browser, url, suburb, property_data, page)\n",
    "            browser.quit()\n",
    "\n",
    "            property_df = pd.DataFrame.from_dict(property_data, orient='index')\n",
    "            property_df.to_csv('property_data.csv')\n",
    "            postcodes.loc[(postcodes.suburb == suburb),'page'] = log\n",
    "            postcodes.to_csv('postcode.csv')\n",
    "            timesleep('rand200')\n",
    "        except Exception as e:\n",
    "            print(e)\n",
    "            print(suburb+' failed at '+str(page))"
   ]
  },
  {
   "cell_type": "code",
   "execution_count": 11,
   "metadata": {},
   "outputs": [],
   "source": [
    "# if __name__ == \"__main__\":\n",
    "#     main()"
   ]
  },
  {
   "cell_type": "code",
   "execution_count": 16,
   "metadata": {},
   "outputs": [],
   "source": [
    "next_page = browser.find_element_by_link_text('6')\n",
    "next_page.click()"
   ]
  },
  {
   "cell_type": "code",
   "execution_count": 35,
   "metadata": {},
   "outputs": [],
   "source": [
    "matches = 'No Exact Matches'"
   ]
  },
  {
   "cell_type": "code",
   "execution_count": 40,
   "metadata": {},
   "outputs": [
    {
     "data": {
      "text/plain": [
       "'no exact matches'"
      ]
     },
     "execution_count": 40,
     "metadata": {},
     "output_type": "execute_result"
    }
   ],
   "source": [
    "matches.strip().lower()"
   ]
  },
  {
   "cell_type": "code",
   "execution_count": null,
   "metadata": {},
   "outputs": [],
   "source": []
  }
 ],
 "metadata": {
  "kernelspec": {
   "display_name": "Python 3",
   "language": "python",
   "name": "python3"
  },
  "language_info": {
   "codemirror_mode": {
    "name": "ipython",
    "version": 3
   },
   "file_extension": ".py",
   "mimetype": "text/x-python",
   "name": "python",
   "nbconvert_exporter": "python",
   "pygments_lexer": "ipython3",
   "version": "3.7.7"
  }
 },
 "nbformat": 4,
 "nbformat_minor": 4
}
